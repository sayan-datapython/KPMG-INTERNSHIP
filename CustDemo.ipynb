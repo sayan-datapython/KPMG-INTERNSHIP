{
 "cells": [
  {
   "cell_type": "code",
   "execution_count": 1,
   "metadata": {},
   "outputs": [],
   "source": [
    "# get all packages needed\n",
    "import numpy as np\n",
    "import pandas as pd\n",
    "import matplotlib.pyplot as plt\n",
    "import datetime\n",
    "from matplotlib.ticker import FuncFormatter\n",
    "import warnings\n",
    "import math as ma\n",
    "warnings.filterwarnings(\"ignore\")"
   ]
  },
  {
   "cell_type": "markdown",
   "metadata": {},
   "source": [
    "## REDING EXCEL FILE"
   ]
  },
  {
   "cell_type": "code",
   "execution_count": 2,
   "metadata": {},
   "outputs": [
    {
     "data": {
      "text/plain": [
       "['customer_id',\n",
       " 'first_name',\n",
       " 'last_name',\n",
       " 'gender',\n",
       " 'past_3_years_bike_related_purchases',\n",
       " 'DOB',\n",
       " 'age',\n",
       " 'job_title',\n",
       " 'job_industry_category',\n",
       " 'wealth_segment',\n",
       " 'deceased_indicator',\n",
       " 'owns_car',\n",
       " 'tenure']"
      ]
     },
     "execution_count": 2,
     "metadata": {},
     "output_type": "execute_result"
    }
   ],
   "source": [
    "#kpmge=pd.ExcelFile('KPMG_VI_New_raw_data_update_final (3).xlsx')#i don't know why this line will be wrrritten\n",
    "                                                                #without this its also work\n",
    "df = pd.read_excel(\"KPMG_VI_New_raw_data_update_final.xlsx\",sheet_name=\"CustomerDemographic\")\n",
    "# path = \"KPMG_VI_New_raw_data_update_final (3).xlsx\" \n",
    "# df = pd.io.excel.read_excel(path,sheet_name=\"Transactions\")\n",
    "list(df)"
   ]
  },
  {
   "cell_type": "code",
   "execution_count": 3,
   "metadata": {},
   "outputs": [
    {
     "data": {
      "text/html": [
       "<div>\n",
       "<style scoped>\n",
       "    .dataframe tbody tr th:only-of-type {\n",
       "        vertical-align: middle;\n",
       "    }\n",
       "\n",
       "    .dataframe tbody tr th {\n",
       "        vertical-align: top;\n",
       "    }\n",
       "\n",
       "    .dataframe thead th {\n",
       "        text-align: right;\n",
       "    }\n",
       "</style>\n",
       "<table border=\"1\" class=\"dataframe\">\n",
       "  <thead>\n",
       "    <tr style=\"text-align: right;\">\n",
       "      <th></th>\n",
       "      <th>customer_id</th>\n",
       "      <th>first_name</th>\n",
       "      <th>last_name</th>\n",
       "      <th>gender</th>\n",
       "      <th>past_3_years_bike_related_purchases</th>\n",
       "      <th>DOB</th>\n",
       "      <th>age</th>\n",
       "      <th>job_title</th>\n",
       "      <th>job_industry_category</th>\n",
       "      <th>wealth_segment</th>\n",
       "      <th>deceased_indicator</th>\n",
       "      <th>owns_car</th>\n",
       "      <th>tenure</th>\n",
       "    </tr>\n",
       "  </thead>\n",
       "  <tbody>\n",
       "    <tr>\n",
       "      <th>0</th>\n",
       "      <td>1</td>\n",
       "      <td>Laraine</td>\n",
       "      <td>Medendorp</td>\n",
       "      <td>Female</td>\n",
       "      <td>93</td>\n",
       "      <td>1953-10-12</td>\n",
       "      <td>67.0</td>\n",
       "      <td>Executive Secretary</td>\n",
       "      <td>Health</td>\n",
       "      <td>Mass Customer</td>\n",
       "      <td>N</td>\n",
       "      <td>Yes</td>\n",
       "      <td>11.0</td>\n",
       "    </tr>\n",
       "    <tr>\n",
       "      <th>1</th>\n",
       "      <td>2</td>\n",
       "      <td>Eli</td>\n",
       "      <td>Bockman</td>\n",
       "      <td>Male</td>\n",
       "      <td>81</td>\n",
       "      <td>1980-12-16</td>\n",
       "      <td>40.0</td>\n",
       "      <td>Administrative Officer</td>\n",
       "      <td>Financial Services</td>\n",
       "      <td>Mass Customer</td>\n",
       "      <td>N</td>\n",
       "      <td>Yes</td>\n",
       "      <td>16.0</td>\n",
       "    </tr>\n",
       "    <tr>\n",
       "      <th>2</th>\n",
       "      <td>3</td>\n",
       "      <td>Arlin</td>\n",
       "      <td>Dearle</td>\n",
       "      <td>Male</td>\n",
       "      <td>61</td>\n",
       "      <td>1954-01-20</td>\n",
       "      <td>66.0</td>\n",
       "      <td>Recruiting Manager</td>\n",
       "      <td>Property</td>\n",
       "      <td>Mass Customer</td>\n",
       "      <td>N</td>\n",
       "      <td>Yes</td>\n",
       "      <td>15.0</td>\n",
       "    </tr>\n",
       "    <tr>\n",
       "      <th>3</th>\n",
       "      <td>4</td>\n",
       "      <td>Talbot</td>\n",
       "      <td>NaN</td>\n",
       "      <td>Male</td>\n",
       "      <td>33</td>\n",
       "      <td>1961-10-03</td>\n",
       "      <td>NaN</td>\n",
       "      <td>NaN</td>\n",
       "      <td>IT</td>\n",
       "      <td>Mass Customer</td>\n",
       "      <td>N</td>\n",
       "      <td>No</td>\n",
       "      <td>7.0</td>\n",
       "    </tr>\n",
       "    <tr>\n",
       "      <th>4</th>\n",
       "      <td>5</td>\n",
       "      <td>Sheila-kathryn</td>\n",
       "      <td>Calton</td>\n",
       "      <td>Female</td>\n",
       "      <td>56</td>\n",
       "      <td>1977-05-13</td>\n",
       "      <td>43.0</td>\n",
       "      <td>Senior Editor</td>\n",
       "      <td>NaN</td>\n",
       "      <td>Affluent Customer</td>\n",
       "      <td>N</td>\n",
       "      <td>Yes</td>\n",
       "      <td>8.0</td>\n",
       "    </tr>\n",
       "  </tbody>\n",
       "</table>\n",
       "</div>"
      ],
      "text/plain": [
       "   customer_id      first_name  last_name  gender  \\\n",
       "0            1         Laraine  Medendorp  Female   \n",
       "1            2             Eli    Bockman    Male   \n",
       "2            3           Arlin     Dearle    Male   \n",
       "3            4          Talbot        NaN    Male   \n",
       "4            5  Sheila-kathryn     Calton  Female   \n",
       "\n",
       "   past_3_years_bike_related_purchases        DOB   age  \\\n",
       "0                                   93 1953-10-12  67.0   \n",
       "1                                   81 1980-12-16  40.0   \n",
       "2                                   61 1954-01-20  66.0   \n",
       "3                                   33 1961-10-03   NaN   \n",
       "4                                   56 1977-05-13  43.0   \n",
       "\n",
       "                job_title job_industry_category     wealth_segment  \\\n",
       "0     Executive Secretary                Health      Mass Customer   \n",
       "1  Administrative Officer    Financial Services      Mass Customer   \n",
       "2      Recruiting Manager              Property      Mass Customer   \n",
       "3                     NaN                    IT      Mass Customer   \n",
       "4           Senior Editor                   NaN  Affluent Customer   \n",
       "\n",
       "  deceased_indicator owns_car  tenure  \n",
       "0                  N      Yes    11.0  \n",
       "1                  N      Yes    16.0  \n",
       "2                  N      Yes    15.0  \n",
       "3                  N       No     7.0  \n",
       "4                  N      Yes     8.0  "
      ]
     },
     "execution_count": 3,
     "metadata": {},
     "output_type": "execute_result"
    }
   ],
   "source": [
    "df.head()"
   ]
  },
  {
   "cell_type": "code",
   "execution_count": 4,
   "metadata": {},
   "outputs": [],
   "source": [
    "temp=df['age'].dropna(axis=0)\n",
    "df['age']=temp\n",
    "df['age']=df['age'].fillna(0).astype('int64')"
   ]
  },
  {
   "cell_type": "markdown",
   "metadata": {},
   "source": [
    "## Getting bikes baught by different genders"
   ]
  },
  {
   "cell_type": "code",
   "execution_count": 5,
   "metadata": {},
   "outputs": [
    {
     "name": "stdout",
     "output_type": "stream",
     "text": [
      "[2039, 1873, 88]\n",
      "[98359, 93483, 3718]\n"
     ]
    }
   ],
   "source": [
    "gender=[0,0,0]\n",
    "for each in df['gender']:\n",
    "    if each[0]==\"F\":\n",
    "        gender[0]+=1\n",
    "    elif each[0]==\"M\":\n",
    "        gender[1]+=1\n",
    "    else:\n",
    "        gender[2]+=1\n",
    "print(gender)\n",
    "\n",
    "bikes=[0,0,0]\n",
    "df[['past_3_years_bike_related_purchases']] = df[['past_3_years_bike_related_purchases']].apply(pd.to_numeric)\n",
    "bikes[0] += df['past_3_years_bike_related_purchases'][df[\"gender\"] == \"Female\"].sum()\n",
    "bikes[1] += df['past_3_years_bike_related_purchases'][df[\"gender\"] == \"Male\"].sum()\n",
    "bikes[2] += df['past_3_years_bike_related_purchases'][df[\"gender\"] == \"U\"].sum()\n",
    "print(bikes)"
   ]
  },
  {
   "cell_type": "code",
   "execution_count": 6,
   "metadata": {},
   "outputs": [
    {
     "name": "stdout",
     "output_type": "stream",
     "text": [
      "[20390, 98359, 18730, 93483, 880, 3718]\n",
      "[0 1 2 3 4 5]\n"
     ]
    }
   ],
   "source": [
    "graphl=[gender[0]*10,bikes[0],gender[1]*10,bikes[1],gender[2]*10,bikes[2]]\n",
    "print(graphl)\n",
    "x=np.arange(6)\n",
    "print(x)"
   ]
  },
  {
   "cell_type": "markdown",
   "metadata": {},
   "source": [
    "## Plotting gender wise total bikes baught"
   ]
  },
  {
   "cell_type": "code",
   "execution_count": 7,
   "metadata": {},
   "outputs": [
    {
     "name": "stdout",
     "output_type": "stream",
     "text": [
      "[2039, 98359, 1873, 93483, 88, 3718]\n"
     ]
    },
    {
     "data": {
      "image/png": "[encoded data removed]",
      "text/plain": [
       "<Figure size 432x288 with 1 Axes>"
      ]
     },
     "metadata": {
      "needs_background": "light"
     },
     "output_type": "display_data"
    }
   ],
   "source": [
    "# fig, ax = plt.subplots()\n",
    "plt.bar(x,graphl,color='blue',width=0.6)\n",
    "plt.title(\"Gender wise bikes baught\")\n",
    "# ax.set_ylabel('Number of people')\n",
    "plt.ylabel('Number of people')\n",
    "plt.xticks(x, ('Female', \"F's P\", 'Male', \"M's P\", 'Unknown', \"U's P\"))\n",
    "graph_value=[gender[0],bikes[0],gender[1],bikes[1],gender[2],bikes[2]]\n",
    "#Now the trick is here.\n",
    "#plt.text() , you need to give (x,y) location , where you want to put the numbers,\n",
    "#So here index will give you x pos and graphl[index] will gives you y pos\n",
    "# x=index-0.3 , y=graphl[index]+0.1 will provide a little gap in x axis and y-axis,\n",
    "# str(value) will gives string value to put in y location\n",
    "# otherwise it's create vary large size figure\n",
    "for index,value in enumerate(graph_value):\n",
    "    plt.text(x=index-0.3 , y=graphl[index]+0.1 , s=str(value), size=12)\n",
    "print(graph_value)"
   ]
  },
  {
   "cell_type": "markdown",
   "metadata": {},
   "source": [
    "## Plotting percentage of bikes baught by gender"
   ]
  },
  {
   "cell_type": "code",
   "execution_count": 18,
   "metadata": {},
   "outputs": [
    {
     "name": "stdout",
     "output_type": "stream",
     "text": [
      "[50.296, 47.803, 1.901]\n"
     ]
    },
    {
     "data": {
      "text/plain": [
       "Text(0.5, 0, 'gender')"
      ]
     },
     "execution_count": 18,
     "metadata": {},
     "output_type": "execute_result"
    },
    {
     "data": {
      "image/png": "[encoded data removed]",
      "text/plain": [
       "<Figure size 432x288 with 1 Axes>"
      ]
     },
     "metadata": {
      "needs_background": "light"
     },
     "output_type": "display_data"
    }
   ],
   "source": [
    "#plotting graph purchasing bikes percentage(Model Development)\n",
    "avg=[0,0,0]\n",
    "total=sum(bikes)\n",
    "# print(total)\n",
    "y=np.arange(3)\n",
    "for i in  range(len(avg)):\n",
    "    avg[i]=round((bikes[i]/total)*100,3)\n",
    "print(avg)    \n",
    "plt.bar(y,avg,color='red',width=0.7)\n",
    "for i in range(len(avg)):\n",
    "    plt.text(x=i-0.25,y=avg[i],s=avg[i],size=12,color='green')\n",
    "plt.xticks(y,(\"Female\",\"Male\",\"Unknown\"))\n",
    "plt.ylabel(\"Percentage of bikes bought \")\n",
    "plt.title(\"Percentage of bikes bought by gender\")\n",
    "plt.xlabel(\"gender\")"
   ]
  },
  {
   "cell_type": "markdown",
   "metadata": {},
   "source": [
    "## Plotting gender and age wise bikes baught"
   ]
  },
  {
   "cell_type": "code",
   "execution_count": 9,
   "metadata": {},
   "outputs": [],
   "source": [
    "fq1=[]  # females between 32 years of age\n",
    "mq1=[]  # males between 32 years of age\n",
    "fq2=[]  # females between 32-49 years of age\n",
    "mq2=[]  # males between 32-49 years of age\n",
    "fq3=[]  # females between 49-66 years of age\n",
    "mq3=[]  # males between 49-66 years of age\n",
    "fq4=[]  # females over 66 years of age\n",
    "mq4=[]  # males over 66 years of age\n",
    "age1=[]\n",
    "for i in range(len(df['age'])):\n",
    "    if df['age'][i]!=0:\n",
    "        age1.append(df['age'][i])\n",
    "mean_age=round(np.mean(age1),0)  #mean age\n",
    "age_stdv=round(np.std(age1),0) # standard deviation of age\n",
    "fq=int(mean_age-age_stdv)   #32\n",
    "sq=int(mean_age)            #49\n",
    "tq=int(sq+age_stdv)         #66\n",
    "j=0\n",
    "for i in df['gender']:\n",
    "    temp=int(df['age'][j])\n",
    "    if df['gender'][j]=='Female' and temp!=0:\n",
    "        if (temp<fq):\n",
    "            fq1.append(temp)\n",
    "        elif fq<temp and temp<=sq:\n",
    "            fq2.append(temp)\n",
    "        elif sq<temp and temp<=tq:\n",
    "            fq3.append(temp)\n",
    "        elif tq<temp:\n",
    "            fq4.append(temp)\n",
    "    elif df['gender'][j]=='Male' and temp!=0:\n",
    "        if (temp<fq):\n",
    "            mq1.append(temp)\n",
    "        elif fq<temp and temp<=sq:\n",
    "            mq2.append(temp)\n",
    "        elif sq<temp and temp<=tq:\n",
    "            mq3.append(temp)\n",
    "        elif tq<temp:\n",
    "            mq4.append(temp)\n",
    "    j+=1\n",
    "\n",
    "p_d={\"Female1\":fq1,\n",
    "     \"Female2\":fq2,\n",
    "     \"Female3\":fq3,\n",
    "     \"Female4\":fq4,\n",
    "     \"Male1\":mq1,\n",
    "     \"Male2\":mq2,\n",
    "     \"Male3\":mq3,\n",
    "     \"Male4\":mq4,\n",
    "    }"
   ]
  },
  {
   "cell_type": "code",
   "execution_count": 10,
   "metadata": {},
   "outputs": [
    {
     "name": "stdout",
     "output_type": "stream",
     "text": [
      "299 562 536 299\n",
      "294 539 465 267\n"
     ]
    }
   ],
   "source": [
    "print(len(p_d[\"Female1\"]),len(p_d[\"Female2\"]),len(p_d[\"Female3\"]),len(p_d[\"Female4\"]))\n",
    "print(len(p_d[\"Male1\"]),len(p_d[\"Male2\"]),len(p_d[\"Male3\"]),len(p_d[\"Male4\"]))"
   ]
  },
  {
   "cell_type": "code",
   "execution_count": 11,
   "metadata": {},
   "outputs": [
    {
     "data": {
      "image/png": "[encoded data removed]",
      "text/plain": [
       "<Figure size 432x288 with 1 Axes>"
      ]
     },
     "metadata": {
      "needs_background": "light"
     },
     "output_type": "display_data"
    }
   ],
   "source": [
    "plot=[len(p_d[\"Female1\"]),len(p_d[\"Male1\"]),len(p_d[\"Female2\"]),len(p_d['Male2']),len(p_d[\"Female3\"]),len(p_d[\"Male3\"]),len(p_d[\"Female4\"]),len(p_d[\"Male4\"])]\n",
    "x1=np.arange(8)\n",
    "plt.bar(x1,plot,color='green',width=0.7)\n",
    "plt.xticks(x1,(\"Fq1\",\"Mq1\",\"Fq2\",\"Mq2\",\"Fq3\",\"Mq3\",\"Fq4\",\"Mq4\"))\n",
    "plt.ylabel('Number of people')\n",
    "plt.title('Gender and Age wise bikes baught')\n",
    "for i in range(len(plot)):\n",
    "    plt.text(x=i-0.2,y=plot[i],s=plot[i],size=12,color='blue')\n",
    "plt.show()\n",
    "\n"
   ]
  },
  {
   "cell_type": "markdown",
   "metadata": {},
   "source": [
    "## Analyzing customers on the basis of job industry category"
   ]
  },
  {
   "cell_type": "code",
   "execution_count": 12,
   "metadata": {},
   "outputs": [
    {
     "data": {
      "text/plain": [
       "Manufacturing         799\n",
       "Financial Services    774\n",
       "Health                602\n",
       "Retail                358\n",
       "Property              267\n",
       "IT                    223\n",
       "Entertainment         136\n",
       "Argiculture           113\n",
       "Telecommunications     72\n",
       "Name: job_industry_category, dtype: int64"
      ]
     },
     "execution_count": 12,
     "metadata": {},
     "output_type": "execute_result"
    }
   ],
   "source": [
    "df['job_industry_category'].value_counts()"
   ]
  },
  {
   "cell_type": "code",
   "execution_count": 13,
   "metadata": {},
   "outputs": [
    {
     "data": {
      "image/png": "[encoded data removed]",
      "text/plain": [
       "<Figure size 432x288 with 1 Axes>"
      ]
     },
     "metadata": {
      "needs_background": "light"
     },
     "output_type": "display_data"
    }
   ],
   "source": [
    "value=[799,774,602,358,267,223,136,113,72]\n",
    "r=np.arange(9)\n",
    "plt.bar(r,value,color='yellow',width=0.4)\n",
    "plt.xticks(r,(\"Financial\",\"Manu\",\"Health\",\"Retail\",\"Property\",\"IT\",\"Entertain\",\"Argi\",\"Telecom\"))\n",
    "plt.ylabel('Number of people',color='red')\n",
    "for i in range(len(value)):\n",
    "    plt.text(x=i-0.25,y=value[i]+0.1,s=value[i],size=12,color='green')\n",
    "plt.show()"
   ]
  },
  {
   "cell_type": "markdown",
   "metadata": {},
   "source": [
    "## Wealth segment by age"
   ]
  },
  {
   "cell_type": "code",
   "execution_count": 14,
   "metadata": {},
   "outputs": [
    {
     "data": {
      "text/plain": [
       "Mass Customer        2000\n",
       "High Net Worth       1021\n",
       "Affluent Customer     979\n",
       "Name: wealth_segment, dtype: int64"
      ]
     },
     "execution_count": 14,
     "metadata": {},
     "output_type": "execute_result"
    }
   ],
   "source": [
    "df['wealth_segment'].value_counts()"
   ]
  },
  {
   "cell_type": "code",
   "execution_count": 15,
   "metadata": {},
   "outputs": [],
   "source": [
    "#split into 3 parts: Mass,High,affluent\n",
    "wsh  ={\"q1\":[],\"q2\":[],\"q3\":[],\"q4\":[]}   #q1=less than 32\n",
    "wsm  ={\"q1\":[],\"q2\":[],\"q3\":[],\"q4\":[]}   #q2= more than 32 and less than 49\n",
    "wsa  ={\"q1\":[],\"q2\":[],\"q3\":[],\"q4\":[]}   #q3= more than 49 and less than 66\n",
    "val=0                                     #q4= more than 66\n",
    "for each in df['wealth_segment']:\n",
    "    temp = int(df['age'][val])\n",
    "    if each[0]=='M' and temp!=0:\n",
    "        if(temp<fq):\n",
    "            wsm[\"q1\"].append(temp)\n",
    "        elif temp>fq and temp<=sq:\n",
    "            wsm[\"q2\"].append(temp)\n",
    "        elif temp>sq and temp<=tq:\n",
    "            wsm[\"q3\"].append(temp)\n",
    "        elif temp>tq:\n",
    "            wsm[\"q4\"].append(temp)\n",
    "    elif each[0]==\"H\" and temp!=0:\n",
    "        if(temp<fq):\n",
    "            wsh[\"q1\"].append(temp)\n",
    "        elif temp>fq and temp<=sq:\n",
    "            wsh[\"q2\"].append(temp)\n",
    "        elif temp>sq and temp<=tq:\n",
    "            wsh[\"q3\"].append(temp)\n",
    "        elif temp>tq:\n",
    "            wsh[\"q4\"].append(temp)\n",
    "    elif each[0]==\"A\" and temp!=0:\n",
    "        if(temp<fq):\n",
    "            wsa[\"q1\"].append(temp)\n",
    "        elif temp>fq and temp<=sq:\n",
    "            wsa[\"q2\"].append(temp)\n",
    "        elif temp>sq and temp<=tq:\n",
    "            wsa[\"q3\"].append(temp)\n",
    "        elif temp>tq:\n",
    "            wsa[\"q4\"].append(temp)\n",
    "    val+=1\n",
    "wshtp = [len(wsh[\"q1\"]),len(wsh[\"q2\"]),len(wsh[\"q3\"]),len(wsh[\"q4\"])]\n",
    "wsmtp = [len(wsm[\"q1\"]),len(wsm[\"q2\"]),len(wsm[\"q3\"]),len(wsm[\"q4\"])]\n",
    "wsatp = [len(wsa[\"q1\"]),len(wsa[\"q2\"]),len(wsa[\"q3\"]),len(wsa[\"q4\"])]"
   ]
  },
  {
   "cell_type": "code",
   "execution_count": 16,
   "metadata": {},
   "outputs": [
    {
     "data": {
      "image/png": "[encoded data removed]",
      "text/plain": [
       "<Figure size 432x288 with 1 Axes>"
      ]
     },
     "metadata": {
      "needs_background": "light"
     },
     "output_type": "display_data"
    }
   ],
   "source": [
    "x2=np.arange(4)\n",
    "bars = np.add(wsmtp,wshtp)\n",
    "width = 0.3\n",
    "\n",
    "plot1=plt.bar(x2,wsmtp,width,color='purple')\n",
    "plot2=plt.bar(x2,wshtp,width,bottom=wsmtp,color='green')\n",
    "plot3=plt.bar(x2,wsatp,width,bottom=bars,color='yellow')\n",
    "plt.ylabel('Number of People')\n",
    "plt.title('Wealth segment by age')\n",
    "plt.xticks(x2,(\"q1\",\"q2\",\"q3\",\"q4\"),color='red')\n",
    "plt.legend((plot1[0],plot2[0],plot3[0]),('Mass','High Net','Affluent'))\n",
    "plt.show()"
   ]
  },
  {
   "cell_type": "code",
   "execution_count": 17,
   "metadata": {},
   "outputs": [
    {
     "data": {
      "text/plain": [
       "Yes    2024\n",
       "No     1976\n",
       "Name: owns_car, dtype: int64"
      ]
     },
     "execution_count": 17,
     "metadata": {},
     "output_type": "execute_result"
    }
   ],
   "source": [
    "df['owns_car'].value_counts()"
   ]
  }
 ],
 "metadata": {
  "kernelspec": {
   "display_name": "Python 3",
   "language": "python",
   "name": "python3"
  },
  "language_info": {
   "codemirror_mode": {
    "name": "ipython",
    "version": 3
   },
   "file_extension": ".py",
   "mimetype": "text/x-python",
   "name": "python",
   "nbconvert_exporter": "python",
   "pygments_lexer": "ipython3",
   "version": "3.7.3"
  }
 },
 "nbformat": 4,
 "nbformat_minor": 4
}
